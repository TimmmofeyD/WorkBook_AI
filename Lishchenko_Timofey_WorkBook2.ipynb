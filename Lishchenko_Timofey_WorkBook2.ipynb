{
 "cells": [
  {
   "cell_type": "markdown",
   "id": "e47eff14",
   "metadata": {},
   "source": [
    "# Рабочая тетрадь 2\n",
    "## Лищенко Т.В. ИМБО-01-22"
   ]
  },
  {
   "cell_type": "markdown",
   "id": "a5817fb3",
   "metadata": {},
   "source": [
    "1.1. Теоретический материал – Библиотека NumPy\n",
    "=\n",
    "<p> NumPy (NumericalPython) - это библиотека Python с открытым\n",
    "исходным кодом, которая используется практически во всех областях науки\n",
    "и техники. Это универсальный стандарт для работы с числовыми данными в\n",
    "Python.</p>\n",
    "    <p>Если у вас уже есть Python, вы можете установить NumPy с помощью\n",
    "командной строки: </p>\n",
    "\n",
    "```pip install numpy```\n",
    "\n",
    "<p>Чтобы начать использовать NumPy необходимо импортировать\n",
    "соответствующую библиотеку:</p>\n",
    "\n",
    "\n",
    "```import numpy as np```\n",
    "\n",
    "<p>Основным объектом NumPy является однородный многомерный\n",
    "массив (в numpy называется numpy.ndarray). Это многомерный массив\n",
    "элементов (обычно чисел), одного типа.</p>\n",
    "   <p> Наиболее важные атрибуты объектов ndarray: </p>\n",
    "\n",
    "\n",
    ">ndarray.ndim - число измерений (чаще их называют \"оси\") массива.\n",
    "\n",
    ">ndarray.shape - размеры массива, его форма. Это кортеж натуральных\n",
    "чисел, показывающий длину массива по каждой оси. Для матрицы из n строк\n",
    "и m столбов, shape будет (n,m). Число элементов кортежа shape равно ndim.\n",
    "\n",
    ">ndarray.size - количество элементов массива. Очевидно, равно\n",
    "произведению всех элементов атрибута shape.\n",
    "\n",
    ">ndarray.dtype - объект, описывающий тип элементов массива. Можно\n",
    "определить dtype, используя стандартные типы данных Python. NumPy здесь\n",
    "предоставляет целый букет возможностей, как встроенных, например: bool_,\n",
    "character, int8, int16, int32, int64, float8, float16, float32, float64, complex64,\n",
    "object_, так и возможность определить собственные типы данных, в том\n",
    "числе и составные.\n",
    "\n",
    ">ndarray.itemsize - размер каждого элемента массива в байтах.\n",
    "\n",
    ">ndarray.data - буфер, содержащий фактические элементы массива.\n",
    "\n",
    "<p>Обычно не нужно использовать этот атрибут, так как обращаться к\n",
    "элементам массива проще всего с помощью индексов.</p>\n",
    "<p>Подробнее о массивах в NumPy можно найти в официальной документации </p> \n",
    "\n",
    ">[Ссылка на документацию](https://numpy.org/doc/stable/user/absolute_beginners.html)"
   ]
  },
  {
   "cell_type": "markdown",
   "id": "048590ac",
   "metadata": {},
   "source": [
    "### 1.2.1 Пример"
   ]
  },
  {
   "cell_type": "code",
   "execution_count": 1,
   "id": "ae2021ca",
   "metadata": {},
   "outputs": [],
   "source": [
    "import numpy as np"
   ]
  },
  {
   "cell_type": "code",
   "execution_count": 5,
   "id": "238c721e",
   "metadata": {},
   "outputs": [
    {
     "data": {
      "text/plain": [
       "(array([[ 1,  2],\n",
       "        [ 3,  4],\n",
       "        [ 5,  6],\n",
       "        [ 7,  8],\n",
       "        [ 9, 10]]),\n",
       " 8,\n",
       " array([3, 4]))"
      ]
     },
     "execution_count": 5,
     "metadata": {},
     "output_type": "execute_result"
    }
   ],
   "source": [
    "x = np.array([[1, 2], [3, 4], [5, 6], [7, 8], [9, 10]])\n",
    "x, x[3][1], x[1]"
   ]
  },
  {
   "cell_type": "code",
   "execution_count": null,
   "id": "99eb74e6",
   "metadata": {},
   "outputs": [],
   "source": []
  },
  {
   "cell_type": "markdown",
   "id": "a592fb75",
   "metadata": {},
   "source": [
    "### 1.2.2 Пример"
   ]
  },
  {
   "cell_type": "code",
   "execution_count": 6,
   "id": "5acd2ea6",
   "metadata": {},
   "outputs": [
    {
     "name": "stdout",
     "output_type": "stream",
     "text": [
      "[0. 0. 0. 0. 0. 0. 0. 0. 0. 0.] \n",
      " [1. 1. 1. 1. 1. 1. 1. 1. 1. 1.] \n",
      " [5 5 5 5 5 5 5 5 5 5] \n",
      " [10 11 12 13 14 15 16 17 18 19]\n"
     ]
    }
   ],
   "source": [
    "a = np.zeros(10)\n",
    "b = np.ones(10)\n",
    "c = np.full(10, 5)\n",
    "d = np.arange(10, 20)\n",
    "print(a, '\\n', b, '\\n', c, '\\n', d)"
   ]
  },
  {
   "cell_type": "code",
   "execution_count": null,
   "id": "1735271e",
   "metadata": {},
   "outputs": [],
   "source": []
  },
  {
   "cell_type": "markdown",
   "id": "45edbd41",
   "metadata": {},
   "source": [
    "### 1.2.3 Пример"
   ]
  },
  {
   "cell_type": "code",
   "execution_count": 9,
   "id": "b92c0ca6",
   "metadata": {},
   "outputs": [
    {
     "name": "stdout",
     "output_type": "stream",
     "text": [
      "0.014621902147009425 0.992222124621009 0.536154245116384\n"
     ]
    }
   ],
   "source": [
    "Z = np.random.random((10,10))\n",
    "Zmin, Zmax, Zmean = Z.min(), Z.max(), Z.mean()\n",
    "print(Zmin, Zmax, Zmean)"
   ]
  },
  {
   "cell_type": "code",
   "execution_count": null,
   "id": "9a97683b",
   "metadata": {},
   "outputs": [],
   "source": []
  },
  {
   "cell_type": "markdown",
   "id": "768f1992",
   "metadata": {},
   "source": [
    "### 1.2.4 Пример"
   ]
  },
  {
   "cell_type": "code",
   "execution_count": 44,
   "id": "1d2b7016",
   "metadata": {},
   "outputs": [
    {
     "data": {
      "text/plain": [
       "array([[ 5,  6,  7,  8,  9],\n",
       "       [ 0,  1,  2,  3,  4],\n",
       "       [10, 11, 12, 13, 14],\n",
       "       [15, 16, 17, 18, 19],\n",
       "       [20, 21, 22, 23, 24]])"
      ]
     },
     "execution_count": 44,
     "metadata": {},
     "output_type": "execute_result"
    }
   ],
   "source": [
    "A = np.arange(25).reshape(5,5)\n",
    "A[[0,1]] = A[[1,0]]\n",
    "A"
   ]
  },
  {
   "cell_type": "code",
   "execution_count": 14,
   "id": "24a22375",
   "metadata": {},
   "outputs": [
    {
     "data": {
      "text/plain": [
       "(nan, False, False, nan, False)"
      ]
     },
     "execution_count": 14,
     "metadata": {},
     "output_type": "execute_result"
    }
   ],
   "source": [
    "0 * np.nan,  np.nan == np.nan, np.inf > np.nan, np.nan - np.nan, 0.3 == 3 * 0.1\n"
   ]
  },
  {
   "cell_type": "code",
   "execution_count": null,
   "id": "e5f93366",
   "metadata": {},
   "outputs": [],
   "source": []
  },
  {
   "cell_type": "markdown",
   "id": "e10fe6d6",
   "metadata": {},
   "source": [
    "### 1.2.5 Пример"
   ]
  },
  {
   "cell_type": "code",
   "execution_count": 16,
   "id": "8df2b511",
   "metadata": {},
   "outputs": [
    {
     "data": {
      "text/plain": [
       "array([1, 2, 3, 4, 5, 6, 7, 8])"
      ]
     },
     "execution_count": 16,
     "metadata": {},
     "output_type": "execute_result"
    }
   ],
   "source": [
    "arr = np.array([2, 1, 5, 3, 7, 4, 6, 8])\n",
    "np.sort(arr)"
   ]
  },
  {
   "cell_type": "code",
   "execution_count": null,
   "id": "df182e3a",
   "metadata": {},
   "outputs": [],
   "source": []
  },
  {
   "cell_type": "markdown",
   "id": "190e36b1",
   "metadata": {},
   "source": [
    "### 1.3.1 Задание"
   ]
  },
  {
   "cell_type": "code",
   "execution_count": 24,
   "id": "e1c641b2",
   "metadata": {},
   "outputs": [
    {
     "name": "stdout",
     "output_type": "stream",
     "text": [
      "0 1 0 1 0 1 0 1 \n",
      "1 0 1 0 1 0 1 0 \n",
      "0 1 0 1 0 1 0 1 \n",
      "1 0 1 0 1 0 1 0 \n",
      "0 1 0 1 0 1 0 1 \n",
      "1 0 1 0 1 0 1 0 \n",
      "0 1 0 1 0 1 0 1 \n",
      "1 0 1 0 1 0 1 0 \n"
     ]
    }
   ],
   "source": [
    "x = np.zeros((8, 8), dtype = int)\n",
    "x[1::2, ::2] = 1\n",
    "x[::2, 1::2] = 1\n",
    "for i in range(8):\n",
    "    for j in range(8):\n",
    "        print(x[i][j], end =\" \")\n",
    "    print()"
   ]
  },
  {
   "cell_type": "code",
   "execution_count": null,
   "id": "8a4f2ed2",
   "metadata": {},
   "outputs": [],
   "source": []
  },
  {
   "cell_type": "markdown",
   "id": "dd142d96",
   "metadata": {},
   "source": [
    "### 1.3.2 Задание"
   ]
  },
  {
   "cell_type": "code",
   "execution_count": 42,
   "id": "26a84d64",
   "metadata": {},
   "outputs": [
    {
     "name": "stdout",
     "output_type": "stream",
     "text": [
      "0 1 2 3 4 \n",
      "0 1 2 3 4 \n",
      "0 1 2 3 4 \n",
      "0 1 2 3 4 \n",
      "0 1 2 3 4 \n"
     ]
    }
   ],
   "source": [
    "A = np.zeros((5,5))\n",
    "A += np.arange(5)\n",
    "for i in range(5):\n",
    "    for j in range(5):\n",
    "        print(int(A[i][j]), end =\" \")\n",
    "    print()"
   ]
  },
  {
   "cell_type": "code",
   "execution_count": null,
   "id": "cbdbe461",
   "metadata": {},
   "outputs": [],
   "source": []
  },
  {
   "cell_type": "markdown",
   "id": "aa7b8fd0",
   "metadata": {},
   "source": [
    "### 1.3.3 Задание"
   ]
  },
  {
   "cell_type": "code",
   "execution_count": 36,
   "id": "75931503",
   "metadata": {},
   "outputs": [
    {
     "data": {
      "text/plain": [
       "array([[[0.0295635 , 0.53548179, 0.90097518],\n",
       "        [0.65030574, 0.27198231, 0.90353119],\n",
       "        [0.23786011, 0.47726528, 0.24588526]],\n",
       "\n",
       "       [[0.3325448 , 0.09470693, 0.74413688],\n",
       "        [0.37979085, 0.13410515, 0.6926233 ],\n",
       "        [0.07871064, 0.33306587, 0.71120901]],\n",
       "\n",
       "       [[0.4781667 , 0.59618221, 0.90730409],\n",
       "        [0.7376802 , 0.18782049, 0.22914692],\n",
       "        [0.81356762, 0.59459168, 0.72077795]]])"
      ]
     },
     "execution_count": 36,
     "metadata": {},
     "output_type": "execute_result"
    }
   ],
   "source": [
    "arr = np.random.random((3,3,3))\n",
    "arr"
   ]
  },
  {
   "cell_type": "code",
   "execution_count": null,
   "id": "35c0820c",
   "metadata": {},
   "outputs": [],
   "source": []
  },
  {
   "cell_type": "markdown",
   "id": "676888ae",
   "metadata": {},
   "source": [
    "### 1.3.4 Задание"
   ]
  },
  {
   "cell_type": "code",
   "execution_count": 41,
   "id": "6ef6e8fc",
   "metadata": {},
   "outputs": [
    {
     "name": "stdout",
     "output_type": "stream",
     "text": [
      "1 1 1 1 1 \n",
      "1 0 0 0 1 \n",
      "1 0 0 0 1 \n",
      "1 0 0 0 1 \n",
      "1 1 1 1 1 \n"
     ]
    }
   ],
   "source": [
    "x = np.ones((5,5))\n",
    "x[1:-1, 1:-1] = 0\n",
    "for i in range(5):\n",
    "    for j in range(5):\n",
    "        print(int(x[i][j]), end =\" \")\n",
    "    print()"
   ]
  },
  {
   "cell_type": "code",
   "execution_count": null,
   "id": "c7240dc0",
   "metadata": {},
   "outputs": [],
   "source": []
  },
  {
   "cell_type": "markdown",
   "id": "e22907a1",
   "metadata": {},
   "source": [
    "### 1.3.5 Задание"
   ]
  },
  {
   "cell_type": "code",
   "execution_count": 59,
   "id": "62ab2b76",
   "metadata": {},
   "outputs": [
    {
     "data": {
      "text/plain": [
       "array([8, 7, 7, 6, 6, 3, 2, 1, 1, 1])"
      ]
     },
     "execution_count": 59,
     "metadata": {},
     "output_type": "execute_result"
    }
   ],
   "source": [
    "arr = np.random.randint(1, 10, 10)\n",
    "arr[::-1].sort()\n",
    "arr"
   ]
  },
  {
   "cell_type": "code",
   "execution_count": null,
   "id": "23fdddcd",
   "metadata": {},
   "outputs": [],
   "source": []
  },
  {
   "cell_type": "markdown",
   "id": "4f13c2db",
   "metadata": {},
   "source": [
    "### 1.3.6 Задание"
   ]
  },
  {
   "cell_type": "code",
   "execution_count": 72,
   "id": "a8430089",
   "metadata": {},
   "outputs": [
    {
     "name": "stdout",
     "output_type": "stream",
     "text": [
      "6 2 4 1 4 \n",
      "6 2 4 1 4 \n",
      "6 2 4 1 4 \n",
      "6 2 4 1 4 \n",
      "6 2 4 1 4 \n"
     ]
    },
    {
     "data": {
      "text/plain": [
       "(25, (5, 5))"
      ]
     },
     "execution_count": 72,
     "metadata": {},
     "output_type": "execute_result"
    }
   ],
   "source": [
    "x = np.zeros((5,5))\n",
    "x += np.random.randint(1, 10, 5)\n",
    "for i in range(5):\n",
    "    for j in range(5):\n",
    "        print(int(x[i][j]), end =\" \")\n",
    "    print()\n",
    "x.size, x.shape"
   ]
  },
  {
   "cell_type": "code",
   "execution_count": null,
   "id": "54ee1384",
   "metadata": {},
   "outputs": [],
   "source": []
  },
  {
   "cell_type": "code",
   "execution_count": null,
   "id": "11254bfb",
   "metadata": {},
   "outputs": [],
   "source": []
  }
 ],
 "metadata": {
  "kernelspec": {
   "display_name": "Python 3 (ipykernel)",
   "language": "python",
   "name": "python3"
  },
  "language_info": {
   "codemirror_mode": {
    "name": "ipython",
    "version": 3
   },
   "file_extension": ".py",
   "mimetype": "text/x-python",
   "name": "python",
   "nbconvert_exporter": "python",
   "pygments_lexer": "ipython3",
   "version": "3.9.12"
  }
 },
 "nbformat": 4,
 "nbformat_minor": 5
}
