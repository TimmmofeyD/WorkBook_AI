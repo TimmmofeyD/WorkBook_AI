{
 "cells": [
  {
   "cell_type": "markdown",
   "id": "e7e2d0d4",
   "metadata": {},
   "source": [
    "# Типы данных"
   ]
  },
  {
   "cell_type": "markdown",
   "id": "86317aab",
   "metadata": {},
   "source": [
    "## 1.2 Пример "
   ]
  },
  {
   "cell_type": "code",
   "execution_count": 11,
   "id": "e9bb0115",
   "metadata": {},
   "outputs": [],
   "source": [
    "x = 3 + 5.2 * 7\n",
    "y = None\n",
    "z = 'a', 5, 12.345, (2, 'b')\n",
    "df = [['Антонова Антонина', 34, 'ж',], ['Борисов Борис', 26, 'м']]\n",
    "A = {1, 'title', 2, ' content'}"
   ]
  },
  {
   "cell_type": "code",
   "execution_count": 12,
   "id": "fd1e5b77",
   "metadata": {},
   "outputs": [
    {
     "name": "stdout",
     "output_type": "stream",
     "text": [
      "39.4 | <class 'float'> \n",
      " None | <class 'NoneType'> \n",
      " ('a', 5, 12.345, (2, 'b')) | <class 'tuple'> \n",
      " [['Антонова Антонина', 34, 'ж'], ['Борисов Борис', 26, 'м']] | <class 'list'> \n",
      " {'title', 1, 2, ' content'} | <class 'set'>\n"
     ]
    }
   ],
   "source": [
    "print(x, '|', type(x), '\\n', y, '|', type(y), '\\n', z, '|',\n",
    "      type(z), '\\n', df, '|', type(df), '\\n', A, '|', type(A))"
   ]
  },
  {
   "cell_type": "markdown",
   "id": "7aaa6b85",
   "metadata": {},
   "source": [
    "## Задание 1.3"
   ]
  },
  {
   "cell_type": "code",
   "execution_count": 14,
   "id": "5269f03e",
   "metadata": {},
   "outputs": [],
   "source": [
    "x = 5 >= 2\n",
    "A = {1, 3, 7, 8}\n",
    "B = {2, 4, 5 ,10 , 'apple'}\n",
    "C = A & B\n",
    "df = 'Антонова Антонина',  34,  'ж'\n",
    "z = 'type'\n",
    "D = [1, 'title', 2, 'content']"
   ]
  },
  {
   "cell_type": "code",
   "execution_count": 15,
   "id": "57db19fe",
   "metadata": {},
   "outputs": [
    {
     "name": "stdout",
     "output_type": "stream",
     "text": [
      "True | <class 'bool'> \n",
      " {8, 1, 3, 7} | <class 'set'> \n",
      " {2, 4, 5, 10, 'apple'} | <class 'set'> \n",
      " set() | <class 'set'> \n",
      " ('Антонова Антонина', 34, 'ж') | <class 'tuple'> \n",
      " type | <class 'str'> \n",
      " [1, 'title', 2, 'content'] | <class 'list'>\n"
     ]
    }
   ],
   "source": [
    "print(x, '|', type(x), '\\n', A, '|', type(A), '\\n', B, '|',\n",
    "      type(B), '\\n', C, '|', type(C), '\\n', df, '|', type(df), '\\n', z, '|', type(z), '\\n', D, '|', type(D))"
   ]
  },
  {
   "cell_type": "code",
   "execution_count": null,
   "id": "498f212d",
   "metadata": {},
   "outputs": [],
   "source": []
  },
  {
   "cell_type": "markdown",
   "id": "94294cb8",
   "metadata": {},
   "source": [
    "# Условный оператор "
   ]
  },
  {
   "cell_type": "markdown",
   "id": "387a45fd",
   "metadata": {},
   "source": [
    "## 2.2 Пример"
   ]
  },
  {
   "cell_type": "code",
   "execution_count": 16,
   "id": "3569287f",
   "metadata": {},
   "outputs": [
    {
     "name": "stdout",
     "output_type": "stream",
     "text": [
      "x положительный\n"
     ]
    }
   ],
   "source": [
    "x = 125\n",
    "if x < 0: \n",
    "    print(\"x отрицательный\")\n",
    "elif x == 0:\n",
    "    print(\"x равен 0\")\n",
    "else:\n",
    "    print(\"x положительный\")"
   ]
  },
  {
   "cell_type": "markdown",
   "id": "90be7a43",
   "metadata": {},
   "source": [
    "## 2.3 Задание"
   ]
  },
  {
   "cell_type": "code",
   "execution_count": 18,
   "id": "3d1fac4a",
   "metadata": {},
   "outputs": [
    {
     "name": "stdout",
     "output_type": "stream",
     "text": [
      "Enter x -> 434234\n",
      "434234 ∈ (5, +∞)\n"
     ]
    }
   ],
   "source": [
    "x = int(input(\"Enter x -> \"))\n",
    "if x < -5:\n",
    "    print(str(x) + ' ∈ (-∞, -5)')\n",
    "elif x >= -5 and x <= 5:\n",
    "    print(str(x) + ' ∈ [-5, 5]')\n",
    "else:\n",
    "    print(str(x) + ' ∈ (5, +∞)')"
   ]
  },
  {
   "cell_type": "code",
   "execution_count": null,
   "id": "7b48f43f",
   "metadata": {},
   "outputs": [],
   "source": []
  },
  {
   "cell_type": "markdown",
   "id": "47417e2b",
   "metadata": {},
   "source": [
    "# Циклы, Массивы, Срезы"
   ]
  },
  {
   "cell_type": "markdown",
   "id": "6fe6fadb",
   "metadata": {},
   "source": [
    "## 3.2.1 Пример"
   ]
  },
  {
   "cell_type": "code",
   "execution_count": 19,
   "id": "6f778134",
   "metadata": {},
   "outputs": [
    {
     "name": "stdout",
     "output_type": "stream",
     "text": [
      "1\n",
      "4\n",
      "7\n",
      "10\n"
     ]
    }
   ],
   "source": [
    "x = 1 \n",
    "while x <= 10:\n",
    "    print(x)\n",
    "    x += 3"
   ]
  },
  {
   "cell_type": "markdown",
   "id": "691d4fb8",
   "metadata": {},
   "source": [
    "# 3.2.2 Пример"
   ]
  },
  {
   "cell_type": "code",
   "execution_count": 20,
   "id": "da440b74",
   "metadata": {},
   "outputs": [
    {
     "name": "stdout",
     "output_type": "stream",
     "text": [
      "KNN\n",
      "decision tree\n",
      "linear model\n"
     ]
    }
   ],
   "source": [
    "models = ['KNN', 'decision tree', 'linear model']\n",
    "for model in models:\n",
    "    print(model)"
   ]
  },
  {
   "cell_type": "markdown",
   "id": "9e919834",
   "metadata": {},
   "source": [
    "# 3.2.3 Пример"
   ]
  },
  {
   "cell_type": "code",
   "execution_count": 26,
   "id": "bc761575",
   "metadata": {},
   "outputs": [
    {
     "name": "stdout",
     "output_type": "stream",
     "text": [
      "[1, 8, 15, 22, 29, 36, 43, 50, 57, 64, 71, 78, 85, 92, 99]\n"
     ]
    }
   ],
   "source": [
    "list_int = range(1, 100, 7)\n",
    "print(list(list_int))"
   ]
  },
  {
   "cell_type": "markdown",
   "id": "07fff321",
   "metadata": {},
   "source": [
    "## 3.2.4 Пример"
   ]
  },
  {
   "cell_type": "code",
   "execution_count": 28,
   "id": "f76a71e3",
   "metadata": {},
   "outputs": [
    {
     "name": "stdout",
     "output_type": "stream",
     "text": [
      "5\n",
      "30\n",
      "55\n",
      "80\n",
      "105\n"
     ]
    }
   ],
   "source": [
    "for i in range(5, 106, 25):\n",
    "    print(i)"
   ]
  },
  {
   "cell_type": "markdown",
   "id": "a00f0e32",
   "metadata": {},
   "source": [
    "## 3.2.5 Пример"
   ]
  },
  {
   "cell_type": "code",
   "execution_count": 32,
   "id": "18b3243a",
   "metadata": {},
   "outputs": [
    {
     "data": {
      "text/plain": [
       "([2, 4, 6], [9, 8, 7, 6, 5, 4, 3, 2, 1])"
      ]
     },
     "execution_count": 32,
     "metadata": {},
     "output_type": "execute_result"
    }
   ],
   "source": [
    "a = [i for i in range(1, 10)]\n",
    "b = a[1:7:2]\n",
    "c = a[::-1]\n",
    "b, c"
   ]
  },
  {
   "cell_type": "markdown",
   "id": "0312231a",
   "metadata": {},
   "source": [
    "## 3.3.1 Задание"
   ]
  },
  {
   "cell_type": "code",
   "execution_count": 35,
   "id": "d7e29533",
   "metadata": {},
   "outputs": [
    {
     "data": {
      "text/plain": [
       "[10, 7, 4]"
      ]
     },
     "execution_count": 35,
     "metadata": {},
     "output_type": "execute_result"
    }
   ],
   "source": [
    "a = [i for i in range(10, 1, -3)]\n",
    "a"
   ]
  },
  {
   "cell_type": "markdown",
   "id": "6510f6d2",
   "metadata": {},
   "source": [
    "## 3.3.2 Задание"
   ]
  },
  {
   "cell_type": "code",
   "execution_count": 39,
   "id": "04a216ea",
   "metadata": {},
   "outputs": [
    {
     "data": {
      "text/plain": [
       "['Саветников Матвей', 18, 'м']"
      ]
     },
     "execution_count": 39,
     "metadata": {},
     "output_type": "execute_result"
    }
   ],
   "source": [
    "data = ['Саветников Матвей', 18, 'м']\n",
    "data"
   ]
  },
  {
   "cell_type": "markdown",
   "id": "3e94f1cf",
   "metadata": {},
   "source": [
    "## 3.3.3 Задание"
   ]
  },
  {
   "cell_type": "code",
   "execution_count": 40,
   "id": "2a76f9ec",
   "metadata": {},
   "outputs": [
    {
     "data": {
      "text/plain": [
       "[2, 3, 4, 5, 6, 7, 8, 9, 10, 11, 12, 13, 14, 15]"
      ]
     },
     "execution_count": 40,
     "metadata": {},
     "output_type": "execute_result"
    }
   ],
   "source": [
    "list_num = [i for i in range(2, 16)]\n",
    "list_num"
   ]
  },
  {
   "cell_type": "markdown",
   "id": "63a2bc86",
   "metadata": {},
   "source": [
    "## 3.3.4 Задание"
   ]
  },
  {
   "cell_type": "code",
   "execution_count": 42,
   "id": "1c9f95ed",
   "metadata": {},
   "outputs": [
    {
     "name": "stdout",
     "output_type": "stream",
     "text": [
      "105\n",
      "80\n",
      "55\n",
      "30\n",
      "5\n"
     ]
    }
   ],
   "source": [
    "for i in range(105, 4, -25):\n",
    "    print(i)"
   ]
  },
  {
   "cell_type": "markdown",
   "id": "26316f06",
   "metadata": {},
   "source": [
    "## 3.3.5 Задание"
   ]
  },
  {
   "cell_type": "code",
   "execution_count": 62,
   "id": "1042c64b",
   "metadata": {},
   "outputs": [
    {
     "data": {
      "text/plain": [
       "[8, 1, 6, 3, 4, 5, 2, 7, 0, 9]"
      ]
     },
     "execution_count": 62,
     "metadata": {},
     "output_type": "execute_result"
    }
   ],
   "source": [
    "list_number = [0, 1, 2, 3, 4, 5, 6, 7, 8, 9]\n",
    "list_number[::2] = list_number[-2::-2]\n",
    "list_number"
   ]
  },
  {
   "cell_type": "code",
   "execution_count": null,
   "id": "1ccbf467",
   "metadata": {},
   "outputs": [],
   "source": []
  },
  {
   "cell_type": "markdown",
   "id": "31c2017c",
   "metadata": {},
   "source": [
    "# Библиотеки"
   ]
  },
  {
   "cell_type": "markdown",
   "id": "974cc5e4",
   "metadata": {},
   "source": [
    "## 4.2.1 Пример"
   ]
  },
  {
   "cell_type": "code",
   "execution_count": 63,
   "id": "d5383b94",
   "metadata": {},
   "outputs": [
    {
     "data": {
      "text/plain": [
       "0.41078129050290885"
      ]
     },
     "execution_count": 63,
     "metadata": {},
     "output_type": "execute_result"
    }
   ],
   "source": [
    "import math as math\n",
    "math.sin(math.e)"
   ]
  },
  {
   "cell_type": "markdown",
   "id": "619d7f50",
   "metadata": {},
   "source": [
    "## 4.2.2 Пример"
   ]
  },
  {
   "cell_type": "code",
   "execution_count": 65,
   "id": "e5ea42c9",
   "metadata": {},
   "outputs": [],
   "source": [
    "from scipy.integrate import simps\n",
    "import numpy as np\n",
    "import matplotlib.pyplot as plt"
   ]
  },
  {
   "cell_type": "code",
   "execution_count": 67,
   "id": "75906836",
   "metadata": {},
   "outputs": [
    {
     "data": {
      "text/plain": [
       "73.50792907748662"
      ]
     },
     "execution_count": 67,
     "metadata": {},
     "output_type": "execute_result"
    },
    {
     "data": {
      "image/png": "[encoded data removed]",
      "text/plain": [
       "<Figure size 432x288 with 1 Axes>"
      ]
     },
     "metadata": {
      "needs_background": "light"
     },
     "output_type": "display_data"
    }
   ],
   "source": [
    "x = np.arange(0.0, 10, 0.1)\n",
    "y = np.abs(np.sin(x * np.exp(np.cos(x))))\n",
    "plt.grid()\n",
    "plt.plot(x, y, c = \"r\")\n",
    "plt.fill_between(x, y)\n",
    "area = trapz(y)\n",
    "area"
   ]
  },
  {
   "cell_type": "markdown",
   "id": "bf55cf42",
   "metadata": {},
   "source": [
    "## 4.2.3 Пример"
   ]
  },
  {
   "cell_type": "code",
   "execution_count": 68,
   "id": "4ef399e9",
   "metadata": {},
   "outputs": [
    {
     "data": {
      "image/png": "[encoded data removed]",
      "text/plain": [
       "<Figure size 720x504 with 1 Axes>"
      ]
     },
     "metadata": {},
     "output_type": "display_data"
    },
    {
     "data": {
      "text/plain": [
       "<matplotlib.collections.PathCollection at 0x25478ce18e0>"
      ]
     },
     "execution_count": 68,
     "metadata": {},
     "output_type": "execute_result"
    },
    {
     "data": {
      "image/png": "[encoded data removed]",
      "text/plain": [
       "<Figure size 432x288 with 1 Axes>"
      ]
     },
     "metadata": {
      "needs_background": "light"
     },
     "output_type": "display_data"
    }
   ],
   "source": [
    "marks = ['Неуд', 'Удовл', 'Хор', 'Отл']\n",
    "\n",
    "data = [3, 7, 8, 4]\n",
    "fig = plt.figure(figsize = (10, 7))\n",
    "plt.pie(data, labels = marks)\n",
    "plt.show()\n",
    "plt.grid()\n",
    "plt.scatter(marks, data)"
   ]
  },
  {
   "cell_type": "markdown",
   "id": "87ce8a86",
   "metadata": {},
   "source": [
    "## 4.3.1 Задание"
   ]
  },
  {
   "cell_type": "code",
   "execution_count": 79,
   "id": "dc4a8384",
   "metadata": {},
   "outputs": [
    {
     "data": {
      "text/plain": [
       "(0.4374110381998343, 0.45904889790091064)"
      ]
     },
     "execution_count": 79,
     "metadata": {},
     "output_type": "execute_result"
    }
   ],
   "source": [
    "data_rand = np.random.sample(100)\n",
    "np.median(data_rand), np.mean(data_rand)"
   ]
  },
  {
   "cell_type": "code",
   "execution_count": 80,
   "id": "3f7d61bb",
   "metadata": {},
   "outputs": [
    {
     "data": {
      "text/plain": [
       "<matplotlib.collections.PathCollection at 0x25478d8e970>"
      ]
     },
     "execution_count": 80,
     "metadata": {},
     "output_type": "execute_result"
    },
    {
     "data": {
      "image/png": "[encoded data removed]",
      "text/plain": [
       "<Figure size 432x288 with 1 Axes>"
      ]
     },
     "metadata": {
      "needs_background": "light"
     },
     "output_type": "display_data"
    }
   ],
   "source": [
    "plt.scatter(data_rand, [i for i in range(100)])"
   ]
  },
  {
   "cell_type": "markdown",
   "id": "0fcfccba",
   "metadata": {},
   "source": [
    "#### Среднее —  среднее значение чисел суммирует числа и делит их на количество чисел, которое дает нам среднее значение \n",
    "#### В то время как медиана, возвращает среднее число из всего набора данных и если набор данных четный, то медиана складывает два средних числа и делит их на 2."
   ]
  },
  {
   "cell_type": "code",
   "execution_count": null,
   "id": "4e892ee4",
   "metadata": {},
   "outputs": [],
   "source": []
  }
 ],
 "metadata": {
  "kernelspec": {
   "display_name": "Python 3 (ipykernel)",
   "language": "python",
   "name": "python3"
  },
  "language_info": {
   "codemirror_mode": {
    "name": "ipython",
    "version": 3
   },
   "file_extension": ".py",
   "mimetype": "text/x-python",
   "name": "python",
   "nbconvert_exporter": "python",
   "pygments_lexer": "ipython3",
   "version": "3.9.12"
  }
 },
 "nbformat": 4,
 "nbformat_minor": 5
}
